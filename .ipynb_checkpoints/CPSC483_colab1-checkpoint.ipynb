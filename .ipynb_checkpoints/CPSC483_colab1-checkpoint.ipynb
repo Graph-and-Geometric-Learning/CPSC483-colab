{
 "cells": [
  {
   "cell_type": "markdown",
   "metadata": {
    "colab_type": "text",
    "id": "view-in-github"
   },
   "source": [
    "<a href=\"https://colab.research.google.com/github/Graph-and-Geometric-Learning/CPSC483-colab/blob/main/CPSC483_colab0.ipynb\" target=\"_parent\"><img src=\"https://colab.research.google.com/assets/colab-badge.svg\" alt=\"Open In Colab\"/></a>"
   ]
  },
  {
   "cell_type": "markdown",
   "metadata": {
    "id": "VWhUwO_-mL2s"
   },
   "source": [
    "## Graph neural network basics\n",
    "\n",
    "In this Colab, we are going to introduce some basics of graph neural network (GNN) and build a pipeline for node classification tasks by PyTorch Geometric (PyG). See more introduction about [PyG](https://pytorch-geometric.readthedocs.io/en/latest/).\n",
    "\n",
    "\n"
   ]
  },
  {
   "cell_type": "markdown",
   "metadata": {
    "id": "0R0-JXHoqhtD"
   },
   "source": [
    "## Outline\n",
    "\n"
   ]
  },
  {
   "cell_type": "markdown",
   "metadata": {
    "id": "ETQPVYpoqsvY"
   },
   "source": [
    "- Basic operation of PyG\n",
    "- Build a GNN by PyG\n",
    "- Training and testing"
   ]
  },
  {
   "cell_type": "markdown",
   "metadata": {
    "id": "zBRS0TB5mo7o"
   },
   "source": [
    "## Basic operation of PyG"
   ]
  },
  {
   "cell_type": "code",
   "execution_count": null,
   "metadata": {},
   "outputs": [],
   "source": [
    "# import the pytorch library into environment and check its version\n",
    "import os\n",
    "import torch\n",
    "print(\"Using torch\", torch.__version__)"
   ]
  },
  {
   "cell_type": "markdown",
   "metadata": {
    "id": "MC5DJkYNWGeL"
   },
   "source": [
    "Let's start installing PyG by `pip`. The version of PyG should match the current version of PyTorch. Here we follow the [instruction](https://pytorch-geometric.readthedocs.io/en/latest/notes/installation.html) of PyG:"
   ]
  },
  {
   "cell_type": "code",
   "execution_count": null,
   "metadata": {
    "id": "NWtNbC9FgZOM"
   },
   "outputs": [],
   "source": [
    "!pip install torch-scatter torch-sparse torch-cluster torch-spline-conv torch-geometric -f https://data.pyg.org/whl/torch-1.12.0+cu113.html\n",
    "!pip install ogb  # for datasets"
   ]
  },
  {
   "cell_type": "markdown",
   "metadata": {
    "id": "Ei5_O8ZXtlGb"
   },
   "source": [
    "### Create a Graph\n",
    "\n",
    "A single graph in PyG is described by an instance of `torch_geometric.data` which holds the some important attributes by default, like edge_index. We can easily create a graph of various number of edges and nodes by PyG. Take the following graph as an example:"
   ]
  },
  {
   "cell_type": "markdown",
   "metadata": {
    "id": "PNeApmAljKyq"
   },
   "source": [
    "![](https://github.com/Graph-and-Geometric-Learning/CPSC483-colab/blob/main/fig/graph_example.png?raw=1)\n"
   ]
  },
  {
   "cell_type": "code",
   "execution_count": 9,
   "metadata": {
    "id": "ZSndMSIJhvC6"
   },
   "outputs": [],
   "source": [
    "# import torch_geometric.data into environment\n",
    "from torch_geometric.data import Data"
   ]
  },
  {
   "cell_type": "markdown",
   "metadata": {
    "id": "P6Usm6XTk22d"
   },
   "source": [
    "We have 6 edges (undirected graph) and 3 nodes in this graph. So the edge index can be defined as:"
   ]
  },
  {
   "cell_type": "code",
   "execution_count": 13,
   "metadata": {
    "id": "fAqsazT4lPAZ"
   },
   "outputs": [],
   "source": [
    "edge_index = torch.tensor([[0, 1, 1, 2, 0, 2],\n",
    "                           [1, 0, 2, 1, 2, 0]], dtype=torch.long)"
   ]
  },
  {
   "cell_type": "markdown",
   "metadata": {},
   "source": [
    "`edge_index` contains two rows of node index, and every node index in the same column constructs an edge indices. So the dimension of `edge index` is 2\\*num_edges."
   ]
  },
  {
   "cell_type": "markdown",
   "metadata": {
    "id": "_fw5y3_Ulx1T"
   },
   "source": [
    "Besides, each node can have a node feature which describes the node's property:"
   ]
  },
  {
   "cell_type": "code",
   "execution_count": 15,
   "metadata": {
    "id": "3doHCX65l63N"
   },
   "outputs": [],
   "source": [
    "x = torch.tensor([[-1], [0], [1]], dtype=torch.float)"
   ]
  },
  {
   "cell_type": "markdown",
   "metadata": {
    "id": "XGKFW9sRlnFK"
   },
   "source": [
    "Then we can define a `Data` object with edge index and node attribute:"
   ]
  },
  {
   "cell_type": "code",
   "execution_count": 16,
   "metadata": {
    "id": "6mmud5UqlfM9"
   },
   "outputs": [],
   "source": [
    "data = Data(x=x, edge_index=edge_index)"
   ]
  },
  {
   "cell_type": "markdown",
   "metadata": {
    "id": "9Af1qVLlmCNb"
   },
   "source": [
    "`Data` object supports many useful utility functions. For example, we can see the number of the nodes, and whether the graph is a undirected graph:"
   ]
  },
  {
   "cell_type": "code",
   "execution_count": null,
   "metadata": {
    "id": "ybw_wwuStyHo"
   },
   "outputs": [],
   "source": [
    "num_nodes = data.num_nodes\n",
    "print(\"number of nodes is:\", num_nodes)\n",
    "\n",
    "is_directed = data.is_directed()\n",
    "print(\"graph is directed or not:\", is_directed)"
   ]
  },
  {
   "cell_type": "markdown",
   "metadata": {
    "id": "OCY73L2LGoS8"
   },
   "source": [
    "### Question 1 (5 points)\n",
    "\n",
    "What is the number of the neighbors of node 0 in the graph?"
   ]
  },
  {
   "cell_type": "code",
   "execution_count": null,
   "metadata": {
    "id": "HMg1NUP9Gnkq"
   },
   "outputs": [],
   "source": [
    "def get_n_neighbors(graph, idx):\n",
    "  # TODO: Implement a function that takes a Data object,\n",
    "  # an index of a node, and returns the number of the neighbors \n",
    "  # of this node (as an integer).\n",
    "\n",
    "  n_neighbors = 0\n",
    "\n",
    "  ############# Your code here ############\n",
    "  ## (~1 line of code)\n",
    "\n",
    "  #########################################\n",
    "\n",
    "  return n_neighbors\n",
    "\n",
    "idx = 0\n",
    "n_neighbors = get_n_neighbors(data, idx)\n",
    "print('Node with index {} has {} neighbors'.format(idx, n_neighbors))"
   ]
  },
  {
   "cell_type": "markdown",
   "metadata": {
    "id": "aKHOYbMCE9b7"
   },
   "source": [
    "PyG has a number of graph data with various scales. Cora is one of the most famous dataset in graph learning, and we can use it by PyG:"
   ]
  },
  {
   "cell_type": "code",
   "execution_count": 22,
   "metadata": {
    "id": "RfZq2L2uEphL"
   },
   "outputs": [],
   "source": [
    "from torch_geometric.datasets import Planetoid\n",
    "\n",
    "dataset = Planetoid('/tmp/cora', 'cora')\n",
    "data = dataset[0]"
   ]
  },
  {
   "cell_type": "markdown",
   "metadata": {
    "id": "W2h5lpJYpjV0"
   },
   "source": [
    "We can see the number of the nodes and edges in cora:"
   ]
  },
  {
   "cell_type": "code",
   "execution_count": null,
   "metadata": {
    "id": "UnYTDzQFpi40"
   },
   "outputs": [],
   "source": [
    "num_nodes = data.num_nodes\n",
    "print('cora has {} nodes'.format(num_nodes))\n",
    "\n",
    "num_edges = data.num_edges\n",
    "print('cora has {} edges'.format(num_edges))"
   ]
  },
  {
   "cell_type": "markdown",
   "metadata": {
    "id": "HebClViZqU1V"
   },
   "source": [
    "### Question 2 (10 points)\n",
    "\n",
    "1. What is the number of the classes in cora dataset? \n",
    "2. Which node in Cora has the most number of neighbors?"
   ]
  },
  {
   "cell_type": "code",
   "execution_count": null,
   "metadata": {
    "id": "pVuXmtFnqr4e"
   },
   "outputs": [],
   "source": [
    "def get_num_classes(data):\n",
    "  # TODO: Implement a function that takes a dataset object\n",
    "  # and returns the number of classes for that dataset.\n",
    "\n",
    "  num_classes = 0\n",
    "\n",
    "  ############# Your code here ############\n",
    "  ## (~1 line of code)\n",
    "  \n",
    "  #########################################\n",
    "\n",
    "  return num_classes\n",
    "\n",
    "def get_idx_with_most_neighbors(data):\n",
    "  # TODO: Implement a function that takes a dataset object\n",
    "  # and returns the node's index that has the greatest amount of neighbors.\n",
    "\n",
    "  idx = -1\n",
    "\n",
    "  ############# Your code here ############\n",
    "  ## (~3 line of code)\n",
    "  \n",
    "  #########################################\n",
    "\n",
    "  return idx\n",
    "\n",
    "num_classes = get_num_classes(data)\n",
    "print(\"cora has {} classes\".format(num_classes))\n",
    "\n",
    "idx = get_idx_with_most_neighbors(data)\n",
    "print(\"{} in cora has the most number of neighbors\".format(idx))"
   ]
  },
  {
   "cell_type": "markdown",
   "metadata": {
    "id": "iiQW1Hs46Kpv"
   },
   "source": [
    "In cora, we split the data into train set, validation set and test set by node mask. All the nodes will participate in the message passing process, but we can only assess the train label during training process. This is what we call [transductive learning](https://en.wikipedia.org/wiki/Transduction_(machine_learning))."
   ]
  },
  {
   "cell_type": "code",
   "execution_count": null,
   "metadata": {
    "id": "ioXYJFV-7UU_"
   },
   "outputs": [],
   "source": [
    "node_feature = data.x\n",
    "\n",
    "train_node_feature = node_feature[data.train_mask]\n",
    "valid_node_feature = node_feature[data.val_mask]\n",
    "test_node_feature = node_feature[data.test_mask]\n",
    "\n",
    "print(\"number of nodes in train set,\", train_node_feature.shape[0])\n",
    "print(\"number of nodes in valid set,\", valid_node_feature.shape[0])\n",
    "print(\"number of nodes in test set,\", test_node_feature.shape[0])"
   ]
  },
  {
   "cell_type": "markdown",
   "metadata": {
    "id": "EhLEhOimr7mY"
   },
   "source": [
    "## Build a GNN by PyG\n",
    "\n",
    "In this section we will use PyG to build a classic graph neural network called GCN([Kipf et al. (2017)](https://arxiv.org/pdf/1609.02907.pdf)). Then we will apply this model to handle node classification task in cora.\n",
    "A GCN is built by stacking multiple graph convolution layers `GCNConv` which passes the messages from neighbors to the center node. Here we can define a `GCNConv` by PyG:\n"
   ]
  },
  {
   "cell_type": "code",
   "execution_count": 33,
   "metadata": {
    "id": "x-8eQfROu7Hm"
   },
   "outputs": [],
   "source": [
    "from torch_geometric.nn import GCNConv\n",
    "\n",
    "conv = GCNConv(in_channels=1433, out_channels=200, normalize=True)"
   ]
  },
  {
   "cell_type": "markdown",
   "metadata": {
    "id": "UxNlpZ5cvI9s"
   },
   "source": [
    "`in_channels` is the dimension of node's input feature, `out_channels` is the  dimension of the output representation of node, and `normalize` is whether to add self-loops and compute symmetric normalization on the adjacent matrix. \n",
    "The feature's dimension in cora is 1433, so `in_channels` is set as 1433. We can perform a message passing on cora like this:"
   ]
  },
  {
   "cell_type": "code",
   "execution_count": null,
   "metadata": {
    "id": "MlwiHnm7wy8S"
   },
   "outputs": [],
   "source": [
    "node_feature = data.x\n",
    "edge_index = data.edge_index\n",
    "\n",
    "node_representation = conv(node_feature, edge_index)\n",
    "\n",
    "print(\"dimension of node_feature:\", node_feature.shape)\n",
    "print(\"dimension of node_representation:\", node_representation.shape)"
   ]
  },
  {
   "cell_type": "markdown",
   "metadata": {
    "id": "LxItCC52xud5"
   },
   "source": [
    "We can see that the inputs of `GCNConv` are node feature and edge index. Then the convolution module will perform a message passing like GCN. \n",
    "Recall the MLP we build in colab0. Here we also use `nn.Module` to define a MLP class containing the basic modules of GCN. "
   ]
  },
  {
   "cell_type": "markdown",
   "metadata": {
    "id": "eug5Vv-Py5f_"
   },
   "source": [
    "### Question 3 (10 points)\n",
    "\n",
    "Following the instruction and build a GCN class using the `GCNConv` modules. \n"
   ]
  },
  {
   "cell_type": "code",
   "execution_count": 39,
   "metadata": {
    "id": "iDO3ucqjtBF6"
   },
   "outputs": [],
   "source": [
    "class GCN(torch.nn.Module):\n",
    "    def __init__(self, in_channels, hidden_channels, out_channels):\n",
    "        super().__init__()\n",
    "\n",
    "        # TODO: Define two GCNConv modules and a ReLU function.\n",
    "        # The input size and output size of first GCNConv module should be in_channels and hidden_channels\n",
    "        # The input size and output size of second GCNConv module should be hidden_channels and out_channels\n",
    "\n",
    "        ############# Your code here ############\n",
    "        ## (~3 line of code)\n",
    "\n",
    "        #########################################\n",
    "\n",
    "    def forward(self, node_feature, edge_index):\n",
    "\n",
    "        output = None\n",
    "\n",
    "        # TODO: Use the modules you define in __init__ to perform message passing.\n",
    "        # ReLU function should be used in the middle of two GCNConv modules.\n",
    "\n",
    "        ############# Your code here ############\n",
    "        ## (~3 line of code)\n",
    "\n",
    "        #########################################\n",
    "\n",
    "        return output"
   ]
  },
  {
   "cell_type": "markdown",
   "metadata": {
    "id": "eHgZ1ozBsYXN"
   },
   "source": [
    "## Training and Testing\n",
    "\n",
    "Now we can try to construct training and testing pipeline, which is similar to what we do in colab0. First we initialize a GCN model:"
   ]
  },
  {
   "cell_type": "code",
   "execution_count": 43,
   "metadata": {
    "id": "d0hojVFN1iMm"
   },
   "outputs": [],
   "source": [
    "hidden_channels = 200\n",
    "num_features = dataset.num_features\n",
    "num_classes = 0  # please write down the number of classes\n",
    "\n",
    "model = GCN(num_features, hidden_channels, num_classes)"
   ]
  },
  {
   "cell_type": "markdown",
   "metadata": {
    "id": "8mA96Hyl2B_v"
   },
   "source": [
    "Then we define the optimizer and loss function. Since it is a classification task, we use Cross Entropy Loss:"
   ]
  },
  {
   "cell_type": "code",
   "execution_count": 56,
   "metadata": {
    "id": "nPOFix9C2BRb"
   },
   "outputs": [],
   "source": [
    "import torch.optim as optim\n",
    "import torch.nn as nn\n",
    "\n",
    "optimizer = optim.Adam(model.parameters(), lr=1e-4)\n",
    "loss_fn = nn.CrossEntropyLoss()"
   ]
  },
  {
   "cell_type": "markdown",
   "metadata": {
    "id": "vCbOTE893mR6"
   },
   "source": [
    "### Question 4 (10 points)\n",
    "\n",
    "Please follow the instruction and implement a function that trains a model. "
   ]
  },
  {
   "cell_type": "code",
   "execution_count": 52,
   "metadata": {
    "id": "45-zRkbN3lxF"
   },
   "outputs": [],
   "source": [
    "def train(model, data, optimizer, loss_fn):\n",
    "\n",
    "    loss = 0\n",
    "\n",
    "    # TODO: Define train function.\n",
    "    # 1. put the model into train mode\n",
    "    # 2. clear the gradients calculated from the last batch\n",
    "    # 3. get the prediction by model\n",
    "    # 4. calculate the loss between our predictions and the actual labels. \n",
    "    # Just using nodes in train set!\n",
    "    # 5. calculate the gradients of each parameter\n",
    "    # 6. update the parameters by taking an optimizer step\n",
    "\n",
    "    ############# Your code here ############\n",
    "    ## (~7 line of code)\n",
    "\n",
    "    #########################################\n",
    "\n",
    "    return loss"
   ]
  },
  {
   "cell_type": "markdown",
   "metadata": {
    "id": "VxgTvA6U_3-B"
   },
   "source": [
    "### Question 5 (10 points)\n",
    "\n",
    "Please follow the instruction and implement a function that evaluates a model in train, valid and test sets."
   ]
  },
  {
   "cell_type": "code",
   "execution_count": 53,
   "metadata": {
    "id": "E60aSasX_-Qe"
   },
   "outputs": [],
   "source": [
    "@torch.no_grad()\n",
    "def test(model, data):\n",
    "\n",
    "    accuracy_list = [0, 0, 0]\n",
    "\n",
    "    # TODO: Define test function.\n",
    "    # 1. put the model into eval mode\n",
    "    # 2. get the prediction by model\n",
    "    # 3. calculate the accuracy for each set\n",
    "    # NOTE: the results should be a list containing the accuracy of different set\n",
    "\n",
    "    ############# Your code here ############\n",
    "    ## (~5 line of code)\n",
    "\n",
    "    #########################################\n",
    "\n",
    "    return accuracy_list"
   ]
  },
  {
   "cell_type": "markdown",
   "metadata": {
    "id": "_lDrWoNtBbpi"
   },
   "source": [
    "We can start to train our model with `train` and `test` functions:"
   ]
  },
  {
   "cell_type": "code",
   "execution_count": 57,
   "metadata": {
    "colab": {
     "base_uri": "https://localhost:8080/"
    },
    "id": "GsLEBfWDBu2k",
    "outputId": "7857a0a4-bf93-4be6-c6d4-9d8b129d3081"
   },
   "outputs": [
    {
     "name": "stdout",
     "output_type": "stream",
     "text": [
      "after 10 epochs' training, the best test accuracy is 0\n"
     ]
    }
   ],
   "source": [
    "epochs = 10\n",
    "\n",
    "best_val_acc = final_test_acc = 0\n",
    "for epoch in range(1, epochs + 1):\n",
    "    loss = train(model, data, optimizer, loss_fn)\n",
    "    train_acc, val_acc, test_acc = test(model, data)\n",
    "    if val_acc > best_val_acc:\n",
    "        best_val_acc = val_acc\n",
    "        final_test_acc = test_acc\n",
    "print(\"after {} epochs' training, the best test accuracy is {}\".format(epochs, final_test_acc))"
   ]
  },
  {
   "cell_type": "markdown",
   "metadata": {},
   "source": [
    "## Submission\n",
    "\n",
    "Make sure to run all the cells and save a copy of this colab in your driver. If you complete this notebook, download the colab and upload your work to canvas to submit it."
   ]
  }
 ],
 "metadata": {
  "colab": {
   "authorship_tag": "ABX9TyMlj0f9T1KoIZnM46MKkrHj",
   "collapsed_sections": [
    "ddiMjUdbmW24",
    "H1ikBfJFZ1iy",
    "IEvPG5hIfuU5",
    "1SZax14Sg61s",
    "lqkSkLWKC7ku",
    "Ope6QD8w8w3S"
   ],
   "include_colab_link": true,
   "name": "CPSC483_colab1",
   "provenance": [],
   "toc_visible": true
  },
  "kernelspec": {
   "display_name": "Python 3",
   "language": "python",
   "name": "python3"
  },
  "language_info": {
   "codemirror_mode": {
    "name": "ipython",
    "version": 3
   },
   "file_extension": ".py",
   "mimetype": "text/x-python",
   "name": "python",
   "nbconvert_exporter": "python",
   "pygments_lexer": "ipython3",
   "version": "3.7.3"
  }
 },
 "nbformat": 4,
 "nbformat_minor": 1
}
